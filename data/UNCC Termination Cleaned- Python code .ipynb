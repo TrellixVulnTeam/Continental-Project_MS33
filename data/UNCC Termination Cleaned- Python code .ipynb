{
 "cells": [
  {
   "cell_type": "code",
   "execution_count": 120,
   "metadata": {
    "collapsed": true
   },
   "outputs": [],
   "source": [
    "import pandas \n",
    "import matplotlib.pyplot as plt\n",
    "import numpy as np\n",
    "\n"
   ]
  },
  {
   "cell_type": "code",
   "execution_count": 94,
   "metadata": {
    "collapsed": true
   },
   "outputs": [],
   "source": [
    "\n"
   ]
  },
  {
   "cell_type": "code",
   "execution_count": null,
   "metadata": {
    "collapsed": true
   },
   "outputs": [],
   "source": []
  },
  {
   "cell_type": "code",
   "execution_count": null,
   "metadata": {
    "collapsed": true
   },
   "outputs": [],
   "source": []
  },
  {
   "cell_type": "code",
   "execution_count": 121,
   "metadata": {
    "collapsed": true
   },
   "outputs": [],
   "source": [
    "data = pd.read_csv('UNCC_Termination 2017.csv')\n"
   ]
  },
  {
   "cell_type": "code",
   "execution_count": 122,
   "metadata": {},
   "outputs": [
    {
     "data": {
      "text/html": [
       "<div>\n",
       "<style>\n",
       "    .dataframe thead tr:only-child th {\n",
       "        text-align: right;\n",
       "    }\n",
       "\n",
       "    .dataframe thead th {\n",
       "        text-align: left;\n",
       "    }\n",
       "\n",
       "    .dataframe tbody tr th {\n",
       "        vertical-align: top;\n",
       "    }\n",
       "</style>\n",
       "<table border=\"1\" class=\"dataframe\">\n",
       "  <thead>\n",
       "    <tr style=\"text-align: right;\">\n",
       "      <th></th>\n",
       "      <th>Personnel No.</th>\n",
       "      <th>Entry</th>\n",
       "      <th>Action type</th>\n",
       "      <th>Personnel Subarea</th>\n",
       "      <th>Personnel Area</th>\n",
       "      <th>Chngd on</th>\n",
       "      <th>Reason for action</th>\n",
       "      <th>Leaving date</th>\n",
       "      <th>Cost Ctr</th>\n",
       "      <th>Cost Center</th>\n",
       "      <th>Functional Area</th>\n",
       "      <th>Gender Key</th>\n",
       "      <th>Birth date</th>\n",
       "      <th>Job</th>\n",
       "    </tr>\n",
       "  </thead>\n",
       "  <tbody>\n",
       "    <tr>\n",
       "      <th>0</th>\n",
       "      <td>60000028</td>\n",
       "      <td>10/11/2007</td>\n",
       "      <td>30 Termination</td>\n",
       "      <td>Valdosta</td>\n",
       "      <td>US-GA-Valdosta-Best Drive</td>\n",
       "      <td>5/1/2017</td>\n",
       "      <td>V0 Resignation unknown/Other</td>\n",
       "      <td>4/21/2017</td>\n",
       "      <td>98653</td>\n",
       "      <td>BD Hill Valdosta Ret</td>\n",
       "      <td>NaN</td>\n",
       "      <td>Male</td>\n",
       "      <td>1/22/1985</td>\n",
       "      <td>Retread Tech I</td>\n",
       "    </tr>\n",
       "    <tr>\n",
       "      <th>1</th>\n",
       "      <td>60000033</td>\n",
       "      <td>5/29/2013</td>\n",
       "      <td>30 Termination</td>\n",
       "      <td>GA, Valdosta</td>\n",
       "      <td>US-All-Best Drive</td>\n",
       "      <td>4/4/2017</td>\n",
       "      <td>V3 Accepted other employment</td>\n",
       "      <td>3/25/2017</td>\n",
       "      <td>98653</td>\n",
       "      <td>BD Hill Valdosta Ret</td>\n",
       "      <td>NaN</td>\n",
       "      <td>Male</td>\n",
       "      <td>8/9/1992</td>\n",
       "      <td>Retread Tech I</td>\n",
       "    </tr>\n",
       "    <tr>\n",
       "      <th>2</th>\n",
       "      <td>60000038</td>\n",
       "      <td>4/1/2010</td>\n",
       "      <td>30 Termination</td>\n",
       "      <td>GA, Forest Park</td>\n",
       "      <td>US-All-Best Drive</td>\n",
       "      <td>8/3/2017</td>\n",
       "      <td>V3 Accepted other employment</td>\n",
       "      <td>7/21/2017</td>\n",
       "      <td>98651</td>\n",
       "      <td>BD Hill ForrestPa Re</td>\n",
       "      <td>NaN</td>\n",
       "      <td>Male</td>\n",
       "      <td>12/28/1972</td>\n",
       "      <td>Retread Tech I</td>\n",
       "    </tr>\n",
       "    <tr>\n",
       "      <th>3</th>\n",
       "      <td>60000062</td>\n",
       "      <td>6/17/2015</td>\n",
       "      <td>30 Termination</td>\n",
       "      <td>Forest Park</td>\n",
       "      <td>US-GA-Forest Park-Best Drive</td>\n",
       "      <td>9/25/2017</td>\n",
       "      <td>V0 Resignation unknown/Other</td>\n",
       "      <td>9/22/2017</td>\n",
       "      <td>98051</td>\n",
       "      <td>BD Hill ForrestPa</td>\n",
       "      <td>NaN</td>\n",
       "      <td>Male</td>\n",
       "      <td>3/1/1975</td>\n",
       "      <td>Service Tech II</td>\n",
       "    </tr>\n",
       "    <tr>\n",
       "      <th>4</th>\n",
       "      <td>60000068</td>\n",
       "      <td>4/20/2015</td>\n",
       "      <td>30 Termination</td>\n",
       "      <td>GA, Forest Park</td>\n",
       "      <td>US-All-Best Drive</td>\n",
       "      <td>6/5/2017</td>\n",
       "      <td>V0 Resignation unknown/Other</td>\n",
       "      <td>4/28/2017</td>\n",
       "      <td>98054</td>\n",
       "      <td>BD Hill Birmingham S</td>\n",
       "      <td>NaN</td>\n",
       "      <td>Male</td>\n",
       "      <td>4/12/1981</td>\n",
       "      <td>Commercial Sales Associate</td>\n",
       "    </tr>\n",
       "  </tbody>\n",
       "</table>\n",
       "</div>"
      ],
      "text/plain": [
       "   Personnel No.       Entry     Action type Personnel Subarea  \\\n",
       "0       60000028  10/11/2007  30 Termination          Valdosta   \n",
       "1       60000033   5/29/2013  30 Termination      GA, Valdosta   \n",
       "2       60000038    4/1/2010  30 Termination   GA, Forest Park   \n",
       "3       60000062   6/17/2015  30 Termination       Forest Park   \n",
       "4       60000068   4/20/2015  30 Termination   GA, Forest Park   \n",
       "\n",
       "                 Personnel Area   Chngd on             Reason for action  \\\n",
       "0     US-GA-Valdosta-Best Drive   5/1/2017  V0 Resignation unknown/Other   \n",
       "1             US-All-Best Drive   4/4/2017  V3 Accepted other employment   \n",
       "2             US-All-Best Drive   8/3/2017  V3 Accepted other employment   \n",
       "3  US-GA-Forest Park-Best Drive  9/25/2017  V0 Resignation unknown/Other   \n",
       "4             US-All-Best Drive   6/5/2017  V0 Resignation unknown/Other   \n",
       "\n",
       "  Leaving date Cost Ctr           Cost Center Functional Area Gender Key  \\\n",
       "0    4/21/2017    98653  BD Hill Valdosta Ret             NaN       Male   \n",
       "1    3/25/2017    98653  BD Hill Valdosta Ret             NaN       Male   \n",
       "2    7/21/2017    98651  BD Hill ForrestPa Re             NaN       Male   \n",
       "3    9/22/2017    98051     BD Hill ForrestPa             NaN       Male   \n",
       "4    4/28/2017    98054  BD Hill Birmingham S             NaN       Male   \n",
       "\n",
       "   Birth date                         Job  \n",
       "0   1/22/1985              Retread Tech I  \n",
       "1    8/9/1992              Retread Tech I  \n",
       "2  12/28/1972              Retread Tech I  \n",
       "3    3/1/1975             Service Tech II  \n",
       "4   4/12/1981  Commercial Sales Associate  "
      ]
     },
     "execution_count": 122,
     "metadata": {},
     "output_type": "execute_result"
    }
   ],
   "source": [
    "data.head()"
   ]
  },
  {
   "cell_type": "code",
   "execution_count": 123,
   "metadata": {},
   "outputs": [
    {
     "data": {
      "text/plain": [
       "Male       1694\n",
       "unknown    1213\n",
       "Female      554\n",
       "Name: Gender Key, dtype: int64"
      ]
     },
     "execution_count": 123,
     "metadata": {},
     "output_type": "execute_result"
    }
   ],
   "source": [
    "data['Gender Key'].value_counts()"
   ]
  },
  {
   "cell_type": "code",
   "execution_count": 124,
   "metadata": {},
   "outputs": [
    {
     "data": {
      "text/plain": [
       "30 Termination             1985\n",
       "32 Termination external    1476\n",
       "Name: Action type, dtype: int64"
      ]
     },
     "execution_count": 124,
     "metadata": {},
     "output_type": "execute_result"
    }
   ],
   "source": [
    "data['Action type'].value_counts()"
   ]
  },
  {
   "cell_type": "code",
   "execution_count": null,
   "metadata": {
    "collapsed": true
   },
   "outputs": [],
   "source": []
  },
  {
   "cell_type": "code",
   "execution_count": null,
   "metadata": {
    "collapsed": true
   },
   "outputs": [],
   "source": []
  },
  {
   "cell_type": "code",
   "execution_count": null,
   "metadata": {
    "collapsed": true
   },
   "outputs": [],
   "source": []
  },
  {
   "cell_type": "code",
   "execution_count": 125,
   "metadata": {
    "collapsed": true
   },
   "outputs": [],
   "source": [
    "for col in ['Personnel No.',  'Action type', 'Personnel Area', 'Personnel Subarea', \n",
    "            'Reason for action', 'Leaving date', 'Cost Ctr', 'Cost Center', 'Functional Area', \n",
    "           'Gender Key', 'Birth date', 'Job']:\n",
    "    data[col] = data[col].astype('category')"
   ]
  },
  {
   "cell_type": "code",
   "execution_count": 126,
   "metadata": {},
   "outputs": [
    {
     "data": {
      "text/plain": [
       "Personnel No.        category\n",
       "Entry                  object\n",
       "Action type          category\n",
       "Personnel Subarea    category\n",
       "Personnel Area       category\n",
       "Chngd on             category\n",
       "Reason for action    category\n",
       "Leaving date         category\n",
       "Cost Ctr             category\n",
       "Cost Center          category\n",
       "Functional Area      category\n",
       "Gender Key           category\n",
       "Birth date           category\n",
       "Job                  category\n",
       "dtype: object"
      ]
     },
     "execution_count": 126,
     "metadata": {},
     "output_type": "execute_result"
    }
   ],
   "source": [
    "data.dtypes"
   ]
  },
  {
   "cell_type": "code",
   "execution_count": 143,
   "metadata": {},
   "outputs": [],
   "source": [
    "data['Entry']=  pandas.to_datetime(data['Entry'], infer_datetime_format=True)\n",
    "data['Chngd on']=  pandas.to_datetime(data['Chngd on'], infer_datetime_format=True)\n",
    "data['Leaving date']=  pandas.to_datetime(data['Leaving date'], infer_datetime_format=True)\n",
    "data['Birth date']=  pandas.to_datetime(data['Birth date'], infer_datetime_format=True)"
   ]
  },
  {
   "cell_type": "code",
   "execution_count": 144,
   "metadata": {},
   "outputs": [
    {
     "data": {
      "text/plain": [
       "Personnel No.              category\n",
       "Entry                datetime64[ns]\n",
       "Action type                category\n",
       "Personnel Subarea          category\n",
       "Personnel Area             category\n",
       "Chngd on             datetime64[ns]\n",
       "Reason for action          category\n",
       "Leaving date         datetime64[ns]\n",
       "Cost Ctr                   category\n",
       "Cost Center                category\n",
       "Functional Area            category\n",
       "Gender Key                 category\n",
       "Birth date           datetime64[ns]\n",
       "Job                        category\n",
       "dtype: object"
      ]
     },
     "execution_count": 144,
     "metadata": {},
     "output_type": "execute_result"
    }
   ],
   "source": [
    "data.dtypes"
   ]
  },
  {
   "cell_type": "code",
   "execution_count": null,
   "metadata": {},
   "outputs": [],
   "source": []
  },
  {
   "cell_type": "code",
   "execution_count": null,
   "metadata": {
    "collapsed": true
   },
   "outputs": [],
   "source": []
  }
 ],
 "metadata": {
  "kernelspec": {
   "display_name": "Python 3",
   "language": "python",
   "name": "python3"
  },
  "language_info": {
   "codemirror_mode": {
    "name": "ipython",
    "version": 3
   },
   "file_extension": ".py",
   "mimetype": "text/x-python",
   "name": "python",
   "nbconvert_exporter": "python",
   "pygments_lexer": "ipython3",
   "version": "3.6.3"
  }
 },
 "nbformat": 4,
 "nbformat_minor": 2
}
